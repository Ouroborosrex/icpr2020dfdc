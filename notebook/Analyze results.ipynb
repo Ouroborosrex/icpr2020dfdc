{
 "cells": [
  {
   "cell_type": "markdown",
   "source": [
    "# Video Face Manipulation Detection Through Ensemble of CNNs\n",
    "Image and Sound Processing Lab - Politecnico di Milano\n",
    "- Nicolò Bonettini\n",
    "- Edoardo Daniele Cannas\n",
    "- Sara Mandelli\n",
    "- Luca Bondi\n",
    "- Paolo Bestagini"
   ],
   "metadata": {
    "collapsed": false,
    "pycharm": {
     "name": "#%% md\n"
    }
   }
  },
  {
   "cell_type": "code",
   "execution_count": 12,
   "metadata": {
    "pycharm": {
     "is_executing": false
    },
    "ExecuteTime": {
     "end_time": "2023-10-11T17:17:14.862704800Z",
     "start_time": "2023-10-11T17:17:14.855190800Z"
    }
   },
   "outputs": [],
   "source": [
    "from pathlib import Path\n",
    "\n",
    "import numpy as np\n",
    "import pandas as pd\n",
    "import sklearn.metrics as M\n",
    "from scipy.special import expit\n",
    "from tqdm.notebook import tqdm"
   ]
  },
  {
   "cell_type": "code",
   "execution_count": 18,
   "metadata": {
    "pycharm": {
     "is_executing": false,
     "name": "#%%\n"
    },
    "ExecuteTime": {
     "end_time": "2023-10-11T17:19:33.080500800Z",
     "start_time": "2023-10-11T17:19:33.061106500Z"
    }
   },
   "outputs": [
    {
     "name": "stdout",
     "output_type": "stream",
     "text": [
      "results\n"
     ]
    }
   ],
   "source": [
    "results_root = Path('results/')\n",
    "results_model_folder = list(results_root.glob('net-*'))"
   ]
  },
  {
   "cell_type": "code",
   "execution_count": 14,
   "metadata": {
    "pycharm": {
     "is_executing": false,
     "name": "#%%\n"
    },
    "ExecuteTime": {
     "end_time": "2023-10-11T17:17:15.386821200Z",
     "start_time": "2023-10-11T17:17:15.334113100Z"
    }
   },
   "outputs": [],
   "source": [
    "def compute_metrics(df_res:pd.DataFrame,train_tag:str) -> dict:\n",
    "    numreal = sum(df_res['label']==False)\n",
    "    numfake = sum(df_res['label']==True\n",
    ")\n",
    "    \n",
    "    netname = train_tag.split('net-')[1].split('_')[0]\n",
    "    traindb = train_tag.split('traindb-')[1].split('_')[0]\n",
    "    \n",
    "    loss = M.log_loss(df_res['label'],expit(df_res['score']))\n",
    "    acc = M.accuracy_score(df_res['label'],df_res['score']>0)\n",
    "    accbal = M.balanced_accuracy_score(df_res['label'],df_res['score']>0)\n",
    "    rocauc = M.roc_auc_score(df_res['label'],df_res['score'])\n",
    "    \n",
    "    res_dict = {'traintag':train_tag,\n",
    "                'net':netname,\n",
    "                'traindb': traindb,\n",
    "                'testdb':testdb,'testsplit':testsplit,\n",
    "                'numreal':numreal,'numfake':numfake,\n",
    "                'loss':loss,\n",
    "                'acc':acc,'accbal':accbal,\n",
    "                'rocauc':rocauc} \n",
    "    return res_dict"
   ]
  },
  {
   "cell_type": "code",
   "execution_count": 15,
   "metadata": {
    "pycharm": {
     "is_executing": false,
     "name": "#%%\n"
    },
    "ExecuteTime": {
     "end_time": "2023-10-11T17:17:15.626737100Z",
     "start_time": "2023-10-11T17:17:15.609337400Z"
    }
   },
   "outputs": [
    {
     "data": {
      "text/plain": "0it [00:00, ?it/s]",
      "application/vnd.jupyter.widget-view+json": {
       "version_major": 2,
       "version_minor": 0,
       "model_id": "3023c5d2e2b64f67bec6dc25f0888709"
      }
     },
     "metadata": {},
     "output_type": "display_data"
    }
   ],
   "source": [
    "results_frame_list = []\n",
    "results_video_list = []\n",
    "\n",
    "for model_folder in tqdm(results_model_folder):\n",
    "    train_model_tag = model_folder.name\n",
    "    model_results = model_folder.glob('*.pkl')\n",
    "    for model_path in model_results:\n",
    "        testdb,testsplit = model_path.with_suffix('').name.rsplit('_',1)\n",
    "        \n",
    "        df_frames = pd.read_pickle(model_path)\n",
    "        results_frame_list.append(compute_metrics(df_frames,train_model_tag))\n",
    "        \n",
    "        df_videos = df_frames[['video','label','score']].groupby('video').mean()\n",
    "        df_videos['label'] = df_videos['label'].astype(np.bool)\n",
    "        results_video_list.append(compute_metrics(df_videos,train_model_tag))"
   ]
  },
  {
   "cell_type": "code",
   "execution_count": 16,
   "metadata": {
    "pycharm": {
     "is_executing": false,
     "name": "#%%\n"
    },
    "ExecuteTime": {
     "end_time": "2023-10-11T17:17:15.885216700Z",
     "start_time": "2023-10-11T17:17:15.861933200Z"
    }
   },
   "outputs": [
    {
     "data": {
      "text/plain": "Empty DataFrame\nColumns: []\nIndex: []",
      "text/html": "<div>\n<style scoped>\n    .dataframe tbody tr th:only-of-type {\n        vertical-align: middle;\n    }\n\n    .dataframe tbody tr th {\n        vertical-align: top;\n    }\n\n    .dataframe thead th {\n        text-align: right;\n    }\n</style>\n<table border=\"1\" class=\"dataframe\">\n  <thead>\n    <tr style=\"text-align: right;\">\n      <th></th>\n    </tr>\n  </thead>\n  <tbody>\n  </tbody>\n</table>\n</div>"
     },
     "execution_count": 16,
     "metadata": {},
     "output_type": "execute_result"
    }
   ],
   "source": [
    "df_res_frames = pd.DataFrame(results_frame_list)\n",
    "df_res_frames"
   ]
  },
  {
   "cell_type": "code",
   "execution_count": 10,
   "metadata": {
    "pycharm": {
     "is_executing": false,
     "name": "#%%\n"
    },
    "ExecuteTime": {
     "end_time": "2023-10-11T16:54:35.917731600Z",
     "start_time": "2023-10-11T16:54:35.884933700Z"
    }
   },
   "outputs": [
    {
     "data": {
      "text/plain": "Empty DataFrame\nColumns: []\nIndex: []",
      "text/html": "<div>\n<style scoped>\n    .dataframe tbody tr th:only-of-type {\n        vertical-align: middle;\n    }\n\n    .dataframe tbody tr th {\n        vertical-align: top;\n    }\n\n    .dataframe thead th {\n        text-align: right;\n    }\n</style>\n<table border=\"1\" class=\"dataframe\">\n  <thead>\n    <tr style=\"text-align: right;\">\n      <th></th>\n    </tr>\n  </thead>\n  <tbody>\n  </tbody>\n</table>\n</div>"
     },
     "execution_count": 10,
     "metadata": {},
     "output_type": "execute_result"
    }
   ],
   "source": [
    "df_res_video = pd.DataFrame(results_video_list)\n",
    "df_res_video"
   ]
  },
  {
   "cell_type": "code",
   "execution_count": 11,
   "metadata": {
    "pycharm": {
     "name": "#%%\n"
    },
    "ExecuteTime": {
     "end_time": "2023-10-11T16:54:38.187456200Z",
     "start_time": "2023-10-11T16:54:38.155822900Z"
    }
   },
   "outputs": [],
   "source": [
    "df_res_frames.to_csv(results_root.joinpath('frames.csv'),index=False)\n",
    "df_res_video.to_csv(results_root.joinpath('videos.csv'),index=False)"
   ]
  },
  {
   "cell_type": "code",
   "execution_count": null,
   "outputs": [],
   "source": [],
   "metadata": {
    "collapsed": false
   }
  }
 ],
 "metadata": {
  "kernelspec": {
   "display_name": "Python 3",
   "language": "python",
   "name": "python3"
  },
  "language_info": {
   "codemirror_mode": {
    "name": "ipython",
    "version": 3
   },
   "file_extension": ".py",
   "mimetype": "text/x-python",
   "name": "python",
   "nbconvert_exporter": "python",
   "pygments_lexer": "ipython3",
   "version": "3.6.9"
  },
  "pycharm": {
   "stem_cell": {
    "cell_type": "raw",
    "source": [],
    "metadata": {
     "collapsed": false
    }
   }
  }
 },
 "nbformat": 4,
 "nbformat_minor": 1
}
